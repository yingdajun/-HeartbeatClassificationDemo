{
 "cells": [
  {
   "cell_type": "markdown",
   "metadata": {},
   "source": [
    "# 导入第三方库"
   ]
  },
  {
   "cell_type": "code",
   "execution_count": 1,
   "metadata": {},
   "outputs": [],
   "source": [
    "import pandas as pd\n",
    "import numpy as np\n",
    "import warnings\n",
    "import matplotlib\n",
    "import matplotlib.pyplot as plt\n",
    "import seaborn as sns\n",
    "\n",
    "warnings.filterwarnings('ignore')\n",
    "%matplotlib inline\n",
    "\n",
    "import itertools\n",
    "import matplotlib.gridspec as gridspec\n",
    "from sklearn import datasets\n",
    "from sklearn.linear_model import LogisticRegression\n",
    "from sklearn.neighbors import KNeighborsClassifier\n",
    "from sklearn.naive_bayes import GaussianNB \n",
    "from sklearn.ensemble import RandomForestClassifier,RandomForestRegressor\n",
    "# from mlxtend.classifier import StackingClassifier\n",
    "from sklearn.model_selection import cross_val_score, train_test_split\n",
    "# from mlxtend.plotting import plot_learning_curves\n",
    "# from mlxtend.plotting import plot_decision_regions\n",
    "\n",
    "from sklearn.model_selection import StratifiedKFold\n",
    "from sklearn.model_selection import train_test_split\n",
    "from sklearn.model_selection import StratifiedKFold\n",
    "from sklearn.model_selection import train_test_split\n",
    "import lightgbm as lgb\n",
    "from sklearn.neural_network import MLPClassifier,MLPRegressor\n",
    "from sklearn.metrics import mean_squared_error, mean_absolute_error"
   ]
  },
  {
   "cell_type": "code",
   "execution_count": 2,
   "metadata": {},
   "outputs": [],
   "source": [
    "def reduce_mem_usage(df):\n",
    "    start_mem = df.memory_usage().sum() / 1024**2 \n",
    "    print('Memory usage of dataframe is {:.2f} MB'.format(start_mem))\n",
    "    \n",
    "    for col in df.columns:\n",
    "        col_type = df[col].dtype\n",
    "        \n",
    "        if col_type != object:\n",
    "            c_min = df[col].min()\n",
    "            c_max = df[col].max()\n",
    "            if str(col_type)[:3] == 'int':\n",
    "                if c_min > np.iinfo(np.int8).min and c_max < np.iinfo(np.int8).max:\n",
    "                    df[col] = df[col].astype(np.int8)\n",
    "                elif c_min > np.iinfo(np.int16).min and c_max < np.iinfo(np.int16).max:\n",
    "                    df[col] = df[col].astype(np.int16)\n",
    "                elif c_min > np.iinfo(np.int32).min and c_max < np.iinfo(np.int32).max:\n",
    "                    df[col] = df[col].astype(np.int32)\n",
    "                elif c_min > np.iinfo(np.int64).min and c_max < np.iinfo(np.int64).max:\n",
    "                    df[col] = df[col].astype(np.int64)  \n",
    "            else:\n",
    "                if c_min > np.finfo(np.float16).min and c_max < np.finfo(np.float16).max:\n",
    "                    df[col] = df[col].astype(np.float16)\n",
    "                elif c_min > np.finfo(np.float32).min and c_max < np.finfo(np.float32).max:\n",
    "                    df[col] = df[col].astype(np.float32)\n",
    "                else:\n",
    "                    df[col] = df[col].astype(np.float64)\n",
    "        else:\n",
    "            df[col] = df[col].astype('category')\n",
    "\n",
    "    end_mem = df.memory_usage().sum() / 1024**2 \n",
    "    print('Memory usage after optimization is: {:.2f} MB'.format(end_mem))\n",
    "    print('Decreased by {:.1f}%'.format(100 * (start_mem - end_mem) / start_mem))\n",
    "    \n",
    "    return df"
   ]
  },
  {
   "cell_type": "code",
   "execution_count": 4,
   "metadata": {},
   "outputs": [
    {
     "name": "stdout",
     "output_type": "stream",
     "text": [
      "Memory usage of dataframe is 157.93 MB\n",
      "Memory usage after optimization is: 39.67 MB\n",
      "Decreased by 74.9%\n",
      "Memory usage of dataframe is 31.43 MB\n",
      "Memory usage after optimization is: 7.90 MB\n",
      "Decreased by 74.9%\n"
     ]
    }
   ],
   "source": [
    "train = pd.read_csv('train.csv')\n",
    "test = pd.read_csv('testA.csv')\n",
    "\n",
    "# 简单预处理\n",
    "train_list = []\n",
    "for items in train.values:\n",
    "    train_list.append([items[0]] + [float(i) for i in items[1].split(',')] + [items[2]])\n",
    "    \n",
    "test_list = []\n",
    "for items in test.values:\n",
    "    test_list.append([items[0]] + [float(i) for i in items[1].split(',')])\n",
    "\n",
    "train = pd.DataFrame(np.array(train_list))\n",
    "test = pd.DataFrame(np.array(test_list))\n",
    "\n",
    "# id列不算入特征\n",
    "features = ['s_'+str(i) for i in range(len(train_list[0])-2)] \n",
    "train.columns = ['id'] + features + ['label']\n",
    "test.columns = ['id'] + features\n",
    "\n",
    "train = reduce_mem_usage(train)\n",
    "test = reduce_mem_usage(test)"
   ]
  },
  {
   "cell_type": "code",
   "execution_count": 5,
   "metadata": {},
   "outputs": [],
   "source": [
    "# 根据8：2划分训练集和校验集\n",
    "X_train = train.drop(['id','label'], axis=1)\n",
    "y_train = train['label']\n",
    "\n",
    "# 测试集\n",
    "X_test = test.drop(['id'], axis=1)\n",
    "\n",
    "# 第一次运行可以先用一个subdata，这样速度会快些\n",
    "X_train = X_train.iloc[:50000,:20]\n",
    "y_train = y_train.iloc[:50000]\n",
    "X_test = X_test.iloc[:,:20]\n",
    "\n",
    "# 划分训练集和测试集\n",
    "X_train, X_val, y_train, y_val = train_test_split(X_train, y_train, test_size=0.2)"
   ]
  },
  {
   "cell_type": "code",
   "execution_count": 6,
   "metadata": {},
   "outputs": [],
   "source": [
    "# 单模函数\n",
    "def build_model_rf(X_train,y_train):\n",
    "    model = RandomForestRegressor(n_estimators = 100)\n",
    "    model.fit(X_train, y_train)\n",
    "    return model\n",
    "\n",
    "\n",
    "def build_model_lgb(X_train,y_train):\n",
    "    model = lgb.LGBMRegressor(num_leaves=63,learning_rate = 0.1,n_estimators = 100)\n",
    "    model.fit(X_train, y_train)\n",
    "    return model\n",
    "\n",
    "\n",
    "def build_model_nn(X_train,y_train):\n",
    "    model = MLPRegressor(alpha=1e-05, hidden_layer_sizes=(5, 2), random_state=1,solver='lbfgs')\n",
    "    model.fit(X_train, y_train)\n",
    "    return model"
   ]
  },
  {
   "cell_type": "code",
   "execution_count": 7,
   "metadata": {},
   "outputs": [
    {
     "name": "stdout",
     "output_type": "stream",
     "text": [
      "predict rf...\n",
      "predict lgb...\n",
      "predict NN...\n"
     ]
    }
   ],
   "source": [
    "# 这里针对三个单模进行训练，其中subA_rf/lgb/nn都是可以提交的模型\n",
    "# 单模没有进行调参，因此是弱分类器，效果可能不是很好。\n",
    "\n",
    "print('predict rf...')\n",
    "model_rf = build_model_rf(X_train,y_train)\n",
    "val_rf = model_rf.predict(X_val)\n",
    "subA_rf = model_rf.predict(X_test)\n",
    "\n",
    "\n",
    "print('predict lgb...')\n",
    "model_lgb = build_model_lgb(X_train,y_train)\n",
    "val_lgb = model_lgb.predict(X_val)\n",
    "subA_lgb = model_rf.predict(X_test)\n",
    "\n",
    "\n",
    "print('predict NN...')\n",
    "model_nn = build_model_nn(X_train,y_train)\n",
    "val_nn = model_nn.predict(X_val)\n",
    "subA_nn = model_rf.predict(X_test)"
   ]
  },
  {
   "cell_type": "markdown",
   "metadata": {},
   "source": [
    "# 加权融合"
   ]
  },
  {
   "cell_type": "code",
   "execution_count": 8,
   "metadata": {},
   "outputs": [
    {
     "name": "stdout",
     "output_type": "stream",
     "text": [
      "MAE of Weighted of val: 0.25843764274624187\n"
     ]
    }
   ],
   "source": [
    "# 加权融合模型，如果w没有变，就是均值融合\n",
    "def Weighted_method(test_pre1,test_pre2,test_pre3,w=[1/3,1/3,1/3]):\n",
    "    Weighted_result = w[0]*pd.Series(test_pre1)+w[1]*pd.Series(test_pre2)+w[2]*pd.Series(test_pre3)\n",
    "    return Weighted_result\n",
    "\n",
    "# 初始权重，可以进行自定义，这里我们随便设置一个权重\n",
    "w = [0.2, 0.3, 0.5]\n",
    "\n",
    "val_pre = Weighted_method(val_rf,val_lgb,val_nn,w)\n",
    "MAE_Weighted = mean_absolute_error(y_val,val_pre)\n",
    "print('MAE of Weighted of val:',MAE_Weighted)"
   ]
  },
  {
   "cell_type": "code",
   "execution_count": 9,
   "metadata": {},
   "outputs": [],
   "source": [
    "## 预测数据部分\n",
    "subA = Weighted_method(subA_rf,subA_lgb,subA_nn,w)\n",
    "\n",
    "## 生成提交文件\n",
    "sub = pd.DataFrame()\n",
    "sub['SaleID'] = X_test.index\n",
    "sub['price'] = subA\n",
    "sub.to_csv('./sub_Weighted.csv',index=False)"
   ]
  },
  {
   "cell_type": "markdown",
   "metadata": {},
   "source": [
    "## Stacking融合"
   ]
  },
  {
   "cell_type": "code",
   "execution_count": 10,
   "metadata": {},
   "outputs": [],
   "source": [
    "## Stacking\n",
    "\n",
    "## 第一层\n",
    "train_rf_pred = model_rf.predict(X_train)\n",
    "train_lgb_pred = model_lgb.predict(X_train)\n",
    "train_nn_pred = model_nn.predict(X_train)\n",
    "\n",
    "stacking_X_train = pd.DataFrame()\n",
    "stacking_X_train['Method_1'] = train_rf_pred\n",
    "stacking_X_train['Method_2'] = train_lgb_pred\n",
    "stacking_X_train['Method_3'] = train_nn_pred\n",
    "\n",
    "stacking_X_val = pd.DataFrame()\n",
    "stacking_X_val['Method_1'] = val_rf\n",
    "stacking_X_val['Method_2'] = val_lgb\n",
    "stacking_X_val['Method_3'] = val_nn\n",
    "\n",
    "stacking_X_test = pd.DataFrame()\n",
    "stacking_X_test['Method_1'] = subA_rf\n",
    "stacking_X_test['Method_2'] = subA_lgb\n",
    "stacking_X_test['Method_3'] = subA_nn"
   ]
  },
  {
   "cell_type": "code",
   "execution_count": 11,
   "metadata": {},
   "outputs": [
    {
     "data": {
      "text/html": [
       "<div>\n",
       "<style scoped>\n",
       "    .dataframe tbody tr th:only-of-type {\n",
       "        vertical-align: middle;\n",
       "    }\n",
       "\n",
       "    .dataframe tbody tr th {\n",
       "        vertical-align: top;\n",
       "    }\n",
       "\n",
       "    .dataframe thead th {\n",
       "        text-align: right;\n",
       "    }\n",
       "</style>\n",
       "<table border=\"1\" class=\"dataframe\">\n",
       "  <thead>\n",
       "    <tr style=\"text-align: right;\">\n",
       "      <th></th>\n",
       "      <th>Method_1</th>\n",
       "      <th>Method_2</th>\n",
       "      <th>Method_3</th>\n",
       "    </tr>\n",
       "  </thead>\n",
       "  <tbody>\n",
       "    <tr>\n",
       "      <th>0</th>\n",
       "      <td>0.00</td>\n",
       "      <td>0.00</td>\n",
       "      <td>0.00</td>\n",
       "    </tr>\n",
       "    <tr>\n",
       "      <th>1</th>\n",
       "      <td>1.80</td>\n",
       "      <td>1.80</td>\n",
       "      <td>1.80</td>\n",
       "    </tr>\n",
       "    <tr>\n",
       "      <th>2</th>\n",
       "      <td>3.00</td>\n",
       "      <td>3.00</td>\n",
       "      <td>3.00</td>\n",
       "    </tr>\n",
       "    <tr>\n",
       "      <th>3</th>\n",
       "      <td>0.00</td>\n",
       "      <td>0.00</td>\n",
       "      <td>0.00</td>\n",
       "    </tr>\n",
       "    <tr>\n",
       "      <th>4</th>\n",
       "      <td>0.02</td>\n",
       "      <td>0.02</td>\n",
       "      <td>0.02</td>\n",
       "    </tr>\n",
       "  </tbody>\n",
       "</table>\n",
       "</div>"
      ],
      "text/plain": [
       "   Method_1  Method_2  Method_3\n",
       "0      0.00      0.00      0.00\n",
       "1      1.80      1.80      1.80\n",
       "2      3.00      3.00      3.00\n",
       "3      0.00      0.00      0.00\n",
       "4      0.02      0.02      0.02"
      ]
     },
     "execution_count": 11,
     "metadata": {},
     "output_type": "execute_result"
    }
   ],
   "source": [
    "stacking_X_test.head()"
   ]
  },
  {
   "cell_type": "code",
   "execution_count": 13,
   "metadata": {},
   "outputs": [
    {
     "name": "stdout",
     "output_type": "stream",
     "text": [
      "MAE of stacking: 0.0016444999999999997\n",
      "MAE of stacking: 0.080454\n",
      "Predict stacking...\n"
     ]
    }
   ],
   "source": [
    "# 第二层是用random forest\n",
    "model_lr_stacking = build_model_rf(stacking_X_train,y_train)\n",
    "\n",
    "## 训练集\n",
    "train_pre_Stacking = model_lr_stacking.predict(stacking_X_train)\n",
    "print('MAE of stacking:',mean_absolute_error(y_train,train_pre_Stacking))\n",
    "\n",
    "## 验证集\n",
    "val_pre_Stacking = model_lr_stacking.predict(stacking_X_val)\n",
    "print('MAE of stacking:',mean_absolute_error(y_val,val_pre_Stacking))\n",
    "\n",
    "## 预测集\n",
    "print('Predict stacking...')\n",
    "subA_Stacking = model_lr_stacking.predict(stacking_X_test)"
   ]
  },
  {
   "cell_type": "code",
   "execution_count": null,
   "metadata": {},
   "outputs": [],
   "source": []
  }
 ],
 "metadata": {
  "kernelspec": {
   "display_name": "Python 3",
   "language": "python",
   "name": "python3"
  },
  "language_info": {
   "codemirror_mode": {
    "name": "ipython",
    "version": 3
   },
   "file_extension": ".py",
   "mimetype": "text/x-python",
   "name": "python",
   "nbconvert_exporter": "python",
   "pygments_lexer": "ipython3",
   "version": "3.6.4"
  }
 },
 "nbformat": 4,
 "nbformat_minor": 2
}
